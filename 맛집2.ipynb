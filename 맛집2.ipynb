{
 "cells": [
  {
   "cell_type": "code",
   "execution_count": null,
   "metadata": {},
   "outputs": [],
   "source": [
    "import sys\n",
    "import time\n",
    "from selenium import webdriver\n",
    "from selenium.common import exceptions"
   ]
  },
  {
   "cell_type": "code",
   "execution_count": null,
   "metadata": {},
   "outputs": [],
   "source": [
    "driver = webdriver.Chrome()\n",
    "driver.get(\"https://www.mangoplate.com/\")"
   ]
  },
  {
   "cell_type": "code",
   "execution_count": null,
   "metadata": {},
   "outputs": [],
   "source": [
    "search_element = driver.find_element_by_css_selector('#main-search')\n",
    "search_element.clear()\n",
    "search_element.send_keys('당산restaurant_list = driver.find_element_by_css_selector('ul.list-restaurants')\n",
    "restaurant_info = restaurant_list.find_elements_by_css_selector('figure.restaurant-item')\n",
    "\n",
    "total_restaurant_info_list = []\n",
    "for i in restaurant_info[:10]:\n",
    "    try:\n",
    "        name, address = i.find_element_by_css_selector('.thumb img').get_attribute('alt').split('사진 -')\n",
    "        total_restaurant_info_list.append((name.strip(), address.strip()))\n",
    "    except(exceptions.NoSuchElementException):\n",
    "        break역')\n",
    "\n",
    "search_button = driver.find_element_by_css_selector(\".btn-search\")\n",
    "search_button.click()\n",
    "try:\n",
    "    page_nums = driver.find_element_by_css_selector('.paging').find_elements_by_css_selector('.ng-binding.ng-scope')[1:]\n",
    "\n",
    "    cnt = 0\n",
    "    for p in page_nums:\n",
    "        cnt += 1\n",
    "        sys.stdout.write('\\r%d / %d' % (cnt, len(page_nums)))\n",
    "        driver.execute_script(\"window.scrollTo(0, document.body.scrollHeight);\")\n",
    "        p.click()\n",
    "        time.sleep(5)\n",
    "        restaurant_list = driver.find_element_by_css_selector('ul.list-restaurants')\n",
    "        restaurant_info = restaurant_list.find_elements_by_css_selector('figure.restaurant-item')\n",
    "        for i in restaurant_info[:10]:\n",
    "            name, address = i.find_element_by_css_selector('.thumb img').get_attribute('alt').split('사진 -')\n",
    "            total_restaurant_info_list.append((name.strip(), address.strip()))\n",
    "except(exceptions.ElementNotVisibleException) as e:\n",
    "    pass\n",
    "\n",
    "print('END!')                         "
   ]
  },
  {
   "cell_type": "code",
   "execution_count": null,
   "metadata": {},
   "outputs": [],
   "source": [
    "total_restaurant_info_list[:3]"
   ]
  },
  {
   "cell_type": "code",
   "execution_count": null,
   "metadata": {},
   "outputs": [],
   "source": [
    "import pandas as pd"
   ]
  },
  {
   "cell_type": "code",
   "execution_count": null,
   "metadata": {},
   "outputs": [],
   "source": [
    "restaurant_df = pd.DataFrame(total_restaurant_info_list, columns=['name', 'address'])"
   ]
  },
  {
   "cell_type": "code",
   "execution_count": null,
   "metadata": {},
   "outputs": [],
   "source": [
    "restaurant_df.to_csv('./당산역_망고플레이트_맛집목록.csv', index=False, encoding='utf8')"
   ]
  },
  {
   "cell_type": "code",
   "execution_count": null,
   "metadata": {},
   "outputs": [],
   "source": [
    "restaurant_df"
   ]
  },
  {
   "cell_type": "code",
   "execution_count": null,
   "metadata": {},
   "outputs": [],
   "source": [
    "restaurant_df = pd.read_csv('./restraunt_list.csv')\n",
    "restaurant_df.head(5)\n",
    "restaurant_df.columns = ['name', 'address', 'latitude', 'longitude']"
   ]
  },
  {
   "cell_type": "code",
   "execution_count": null,
   "metadata": {},
   "outputs": [],
   "source": [
    "import requests\n",
    "import json\n",
    "\n",
    "def get_latitude_longitude(addr):\n",
    "    location = addr\n",
    "    response = requests.get('http://maps.googleapis.com/maps/api/geocode/json?sensor=false&language=ko&address=' + location)    \n",
    "    loc_dict = json.loads(response.text)\n",
    "    latitude = loc_dict['results'][0]['geometry']['location']['lat'] \n",
    "    longitude = loc_dict['results'][0]['geometry']['location']['lng']\n",
    "    return [latitude, longitude]"
   ]
  },
  {
   "cell_type": "code",
   "execution_count": null,
   "metadata": {},
   "outputs": [],
   "source": [
    "latitude_list = []\n",
    "longitude_list = []\n",
    "for i in restaurant_df['address'].values:\n",
    "    lat, lon = get_latitude_longitude(i)\n",
    "    latitude_list.append(lat)\n",
    "    longitude_list.append(lon)\n",
    "\n",
    "restaurant_df['latitude'] = latitude_list\n",
    "restaurant_df['longitude'] = longitude_list\n",
    "\n",
    "\n",
    "restaurant_df.to_csv('./당산역_망고플레이트_맛집목록_위경도.csv', index=False, encoding='utf8')"
   ]
  },
  {
   "cell_type": "code",
   "execution_count": null,
   "metadata": {},
   "outputs": [],
   "source": [
    "restaurant_df.head(20)"
   ]
  },
  {
   "cell_type": "code",
   "execution_count": null,
   "metadata": {},
   "outputs": [],
   "source": [
    "import folium\n",
    "\n",
    " hanyang_univ_map = folium.Map(location=[  37.298524, 126.834712], zoom_start=15)\n",
    "for l in restaurant_df[['name', 'latitude', 'longitude']].values:\n",
    "#    folium.Marker(l[1:],popup=l[0], icon=folium.Icon(color='red')).add_to(한양대지도)\n",
    "    folium.CircleMarker(l[1:], popup=l[0], color='red', fill_color='red', radius=5).add_to(hanyang_univ_map)"
   ]
  },
  {
   "cell_type": "code",
   "execution_count": null,
   "metadata": {},
   "outputs": [],
   "source": [
    "Dangsan_stataion_map"
   ]
  }
 ],
 "metadata": {
  "kernelspec": {
   "display_name": "Python 3",
   "language": "python",
   "name": "python3"
  },
  "language_info": {
   "codemirror_mode": {
    "name": "ipython",
    "version": 2
   },
   "file_extension": ".py",
   "mimetype": "text/x-python",
   "name": "python",
   "nbconvert_exporter": "python",
   "pygments_lexer": "ipython2",
   "version": "2.7.6"
  }
 },
 "nbformat": 4,
 "nbformat_minor": 2
}
